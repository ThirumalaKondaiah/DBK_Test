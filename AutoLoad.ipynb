{
 "cells": [
  {
   "cell_type": "code",
   "execution_count": 0,
   "metadata": {
    "application/vnd.databricks.v1+cell": {
     "cellMetadata": {
      "byteLimit": 2048000,
      "rowLimit": 10000
     },
     "inputWidgets": {},
     "nuid": "1941baa3-0919-49e4-8f6d-ae7ddcc07453",
     "showTitle": false,
     "tableResultSettingsMap": {},
     "title": ""
    }
   },
   "outputs": [],
   "source": [
    "from pyspark.sql.functions import *\n",
    "from delta.tables import DeltaTable\n",
    "\n",
    " # File location and type\n",
    "file_location = \"/FileStore/tables/*.csv\"\n",
    "file_type = \"csv\"\n",
    "\n",
    "# CSV options\n",
    "infer_schema = \"true\"\n",
    "first_row_is_header = \"true\"\n",
    "delimiter = \",\"\n",
    "\n",
    "# The applied options are for CSV files. For other file types, these will be ignored.\n",
    "df_ele = spark.read.format(file_type) \\\n",
    "  .option(\"inferSchema\", infer_schema) \\\n",
    "  .option(\"header\", first_row_is_header) \\\n",
    "  .option(\"sep\", delimiter) \\\n",
    "  .load(file_location)\n",
    "\n",
    "# display(df_ele)\n"
   ]
  },
  {
   "cell_type": "code",
   "execution_count": 0,
   "metadata": {
    "application/vnd.databricks.v1+cell": {
     "cellMetadata": {
      "byteLimit": 2048000,
      "rowLimit": 10000
     },
     "inputWidgets": {},
     "nuid": "1f879c5e-f6a5-4c9c-9b44-ed47abca1f8e",
     "showTitle": false,
     "tableResultSettingsMap": {},
     "title": ""
    }
   },
   "outputs": [],
   "source": [
    "new_col = [i.replace(\" \", \"_\").replace(\"(\", \"\").replace(\")\", \"\").replace(\"-\", \"_\") for i in df_ele.columns]\n",
    "\n",
    "df_ele = df_ele.toDF(*new_col)\n",
    "\n",
    "df_ele.write.format(\"delta\").mode(\"append\").saveAsTable(\"databricks_demo.ElectricVehicle_Info\")"
   ]
  },
  {
   "cell_type": "code",
   "execution_count": 0,
   "metadata": {
    "application/vnd.databricks.v1+cell": {
     "cellMetadata": {
      "byteLimit": 2048000,
      "rowLimit": 10000
     },
     "inputWidgets": {},
     "nuid": "7ada2c2c-6223-4280-9c2c-1ea92fa50b84",
     "showTitle": false,
     "tableResultSettingsMap": {},
     "title": ""
    }
   },
   "outputs": [],
   "source": [
    "\n",
    "transfrm_tbl = spark.read.table(\"databricks_demo.ElectricVehicle_Info\").distinct().where(\n",
    "    (col(\"County\").like(\"%Snohomish\")) &\n",
    "    (col(\"City\").like(\"%Everett\")) &\n",
    "    (col(\"Postal_Code\") == 98204))"
   ]
  },
  {
   "cell_type": "code",
   "execution_count": 0,
   "metadata": {
    "application/vnd.databricks.v1+cell": {
     "cellMetadata": {
      "byteLimit": 2048000,
      "rowLimit": 10000
     },
     "inputWidgets": {},
     "nuid": "872b7378-89b2-4a94-a8d6-64f87311f7a8",
     "showTitle": false,
     "tableResultSettingsMap": {},
     "title": ""
    }
   },
   "outputs": [],
   "source": [
    "cols = transfrm_tbl.columns\n",
    "\n",
    "update_expr = {col: f\"s.{col}\" for col in cols}\n",
    "insert_expr = {col: f\"s.{col}\" for col in cols}\n",
    "print(update_expr)\n",
    "print(insert_expr)\n",
    "\n",
    "target = DeltaTable.forName(spark, \"databricks_demo.ElectricVehicle_Info_P98204\")\n",
    "\n",
    "target.alias(\"t\").merge(\n",
    "transfrm_tbl.alias(\"s\"),\n",
    "\"t.DOL_Vehicle_ID = s.DOL_Vehicle_ID and t.VIN_1_10 = s.VIN_1_10 AND t.Model_Year = s.Model_Year and t.County = s.County AND t.City = s.City AND t.Postal_Code = s.Postal_Code\"\n",
    ")\\\n",
    ".whenMatchedUpdate(set=update_expr) \\\n",
    ".whenNotMatchedInsert(values=insert_expr) \\\n",
    ".execute()"
   ]
  }
 ],
 "metadata": {
  "application/vnd.databricks.v1+notebook": {
   "computePreferences": null,
   "dashboards": [],
   "environmentMetadata": {
    "base_environment": "",
    "environment_version": "2"
   },
   "inputWidgetPreferences": null,
   "language": "python",
   "notebookMetadata": {
    "pythonIndentUnit": 4
   },
   "notebookName": "AutoLoad",
   "widgets": {}
  },
  "language_info": {
   "name": "python"
  }
 },
 "nbformat": 4,
 "nbformat_minor": 0
}
