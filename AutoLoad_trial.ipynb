{
 "cells": [
  {
   "cell_type": "markdown",
   "metadata": {
    "application/vnd.databricks.v1+cell": {
     "cellMetadata": {
      "byteLimit": 2048000,
      "rowLimit": 10000
     },
     "inputWidgets": {},
     "nuid": "96836a90-f4f9-4cfd-9db5-ce19f3afa534",
     "showTitle": false,
     "tableResultSettingsMap": {},
     "title": ""
    }
   },
   "source": [
    "# Data from CSV"
   ]
  },
  {
   "cell_type": "code",
   "execution_count": 0,
   "metadata": {
    "application/vnd.databricks.v1+cell": {
     "cellMetadata": {
      "byteLimit": 2048000,
      "rowLimit": 10000
     },
     "inputWidgets": {},
     "nuid": "60c51bf7-6ec9-41b7-8db5-f3937d71a9fd",
     "showTitle": false,
     "tableResultSettingsMap": {},
     "title": ""
    }
   },
   "outputs": [],
   "source": [
    "dbutils.fs.ls(\"dbfs:/databricks-datasets/bikeSharing/data-001/day.csv\")"
   ]
  },
  {
   "cell_type": "code",
   "execution_count": 0,
   "metadata": {
    "application/vnd.databricks.v1+cell": {
     "cellMetadata": {
      "byteLimit": 2048000,
      "rowLimit": 10000
     },
     "inputWidgets": {},
     "nuid": "bc2ae3ed-f035-4659-90e2-d5b47500c5e9",
     "showTitle": false,
     "tableResultSettingsMap": {},
     "title": ""
    }
   },
   "outputs": [],
   "source": [
    "# dbutils.fs.ls(\"/FileStore/tables/Electric_Vehicle_Population_Data.csv\")\n",
    "\n",
    "# dbutils.fs.rm(\"/FileStore/tables/Electric_Vehicle_Population_Data.csv\")\n"
   ]
  },
  {
   "cell_type": "code",
   "execution_count": 0,
   "metadata": {
    "application/vnd.databricks.v1+cell": {
     "cellMetadata": {
      "byteLimit": 2048000,
      "rowLimit": 10000
     },
     "inputWidgets": {},
     "nuid": "0858f21c-ae6c-41ac-adb8-7029fc520529",
     "showTitle": false,
     "tableResultSettingsMap": {},
     "title": ""
    }
   },
   "outputs": [],
   "source": [
    "df= spark.read.format('csv').option('header', 'true').\\\n",
    "option('InferSchema', 'true').load('dbfs:/databricks-datasets/bikeSharing/data-001/day.csv')"
   ]
  },
  {
   "cell_type": "code",
   "execution_count": 0,
   "metadata": {
    "application/vnd.databricks.v1+cell": {
     "cellMetadata": {
      "byteLimit": 2048000,
      "rowLimit": 10000
     },
     "inputWidgets": {},
     "nuid": "083b96ff-2bd0-4f67-8588-1569f21bacf2",
     "showTitle": false,
     "tableResultSettingsMap": {},
     "title": ""
    }
   },
   "outputs": [],
   "source": [
    "# df.count()\n",
    "df.display()"
   ]
  },
  {
   "cell_type": "code",
   "execution_count": 0,
   "metadata": {
    "application/vnd.databricks.v1+cell": {
     "cellMetadata": {
      "byteLimit": 2048000,
      "rowLimit": 10000
     },
     "inputWidgets": {},
     "nuid": "ac1ac65a-46b4-4687-9a02-c13760065aad",
     "showTitle": false,
     "tableResultSettingsMap": {},
     "title": ""
    }
   },
   "outputs": [],
   "source": [
    "from pyspark.sql.functions import *\n",
    "\n",
    "df1 = df.groupBy(\n",
    "    year(col(\"dteday\")).alias(\"year\"),\n",
    "    month(col(\"dteday\")).alias(\"month\")\n",
    ").agg(\n",
    "    count(\"*\").alias(\"record_count\")\n",
    ").orderBy(\"year\", \"month\")"
   ]
  },
  {
   "cell_type": "code",
   "execution_count": 0,
   "metadata": {
    "application/vnd.databricks.v1+cell": {
     "cellMetadata": {
      "byteLimit": 2048000,
      "rowLimit": 10000
     },
     "inputWidgets": {},
     "nuid": "23433aec-7565-4d75-a2ee-a3bcf2cb26e3",
     "showTitle": false,
     "tableResultSettingsMap": {},
     "title": ""
    }
   },
   "outputs": [],
   "source": [
    "# df1 = df1.withColumn(\n",
    "#     \"Month_Name\",\n",
    "#     date_format(\n",
    "#         to_date(lpad(col(\"month\").cast(\"string\"), 2, \"0\"), \"MM\"),\n",
    "#         \"MMMM\"\n",
    "#     )\n",
    "# )\n",
    "\n",
    "# df1.display()\n",
    "df1.select( \"year\",\"Month_Name\", \"record_count\").write.format(\"delta\").mode(\"overwrite\").saveAsTable(\"databricks_demo.BikeSharingcount\")\n"
   ]
  },
  {
   "cell_type": "markdown",
   "metadata": {
    "application/vnd.databricks.v1+cell": {
     "cellMetadata": {
      "byteLimit": 2048000,
      "implicitDf": true,
      "rowLimit": 10000
     },
     "inputWidgets": {},
     "nuid": "53e2f49c-178d-470c-b3f2-f4333214d243",
     "showTitle": false,
     "tableResultSettingsMap": {},
     "title": ""
    }
   },
   "source": [
    "## Mount Azure\n",
    "\n",
    "<!-- #Select * from databricks_demo.bikesharingcount\n",
    "\n",
    "spark.sql(\"Select * from databricks_demo.bikesharingcount\").display()\n",
    "\n",
    "spark.sql(\"Select year from databricks_demo.bikesharingcount\").display()\n",
    "\n",
    "# spark.sql(\"drop table databricks_demo.bikesharingcount\").display()\n",
    "\n",
    "# df1.display() -->\n"
   ]
  },
  {
   "cell_type": "code",
   "execution_count": 0,
   "metadata": {
    "application/vnd.databricks.v1+cell": {
     "cellMetadata": {
      "byteLimit": 2048000,
      "implicitDf": true,
      "rowLimit": 10000
     },
     "inputWidgets": {},
     "nuid": "692dce20-b5db-4f8b-8eaa-46790d3703cf",
     "showTitle": false,
     "tableResultSettingsMap": {},
     "title": ""
    }
   },
   "outputs": [],
   "source": [
    "%sql\n",
    "create volume if not exists Volumestest"
   ]
  },
  {
   "cell_type": "code",
   "execution_count": 0,
   "metadata": {
    "application/vnd.databricks.v1+cell": {
     "cellMetadata": {
      "byteLimit": 2048000,
      "rowLimit": 10000
     },
     "inputWidgets": {},
     "nuid": "121777e7-c17e-4931-a605-2b062e73cd41",
     "showTitle": false,
     "tableResultSettingsMap": {},
     "title": ""
    }
   },
   "outputs": [],
   "source": [
    "# File location and type\n",
    "file_location = \"/FileStore/tables/Electric_Vehicle_Population_Data.csv\"\n",
    "file_type = \"csv\"\n",
    "\n",
    "# CSV options\n",
    "infer_schema = \"true\"\n",
    "first_row_is_header = \"true\"\n",
    "delimiter = \",\"\n",
    "\n",
    "# The applied options are for CSV files. For other file types, these will be ignored.\n",
    "df_ele = spark.read.format(file_type) \\\n",
    "  .option(\"inferSchema\", infer_schema) \\\n",
    "  .option(\"header\", first_row_is_header) \\\n",
    "  .option(\"sep\", delimiter) \\\n",
    "  .load(file_location)\n",
    "\n",
    "# display(df_ele)\n"
   ]
  },
  {
   "cell_type": "code",
   "execution_count": 0,
   "metadata": {
    "application/vnd.databricks.v1+cell": {
     "cellMetadata": {
      "byteLimit": 2048000,
      "rowLimit": 10000
     },
     "inputWidgets": {},
     "nuid": "cc65b4a1-5390-4b77-af20-5ef93f38dbef",
     "showTitle": false,
     "tableResultSettingsMap": {},
     "title": ""
    }
   },
   "outputs": [],
   "source": [
    "new_col = [i.replace(\" \", \"_\").replace(\"(\", \"\").replace(\")\", \"\").replace(\"-\", \"_\") for i in df_ele.columns]\n",
    "\n",
    "df_ele = df_ele.toDF(*new_col)\n",
    "\n",
    "df_ele.write.format(\"delta\").mode(\"overwrite\").saveAsTable(\"databricks_demo.ElectricVehicle_Info\")"
   ]
  },
  {
   "cell_type": "code",
   "execution_count": 0,
   "metadata": {
    "application/vnd.databricks.v1+cell": {
     "cellMetadata": {
      "byteLimit": 2048000,
      "rowLimit": 10000
     },
     "inputWidgets": {},
     "nuid": "911469ce-f58a-4864-96c5-9662c5807cb8",
     "showTitle": false,
     "tableResultSettingsMap": {},
     "title": ""
    },
    "jupyter": {
     "outputs_hidden": true
    }
   },
   "outputs": [],
   "source": [
    "staging = spark.sql(\"\"\"\n",
    "SELECT * FROM databricks_demo.ElectricVehicle_Info\n",
    "WHERE County = 'Snohomish' AND City = 'Everett' AND Postal_Code = 98204\n",
    "\"\"\")\n",
    "staging.write.format(\"delta\").mode(\"overwrite\").saveAsTable(\"databricks_demo.ElectricVehicle_Info_P98204\")"
   ]
  },
  {
   "cell_type": "code",
   "execution_count": 0,
   "metadata": {
    "application/vnd.databricks.v1+cell": {
     "cellMetadata": {
      "byteLimit": 2048000,
      "rowLimit": 10000
     },
     "inputWidgets": {},
     "nuid": "f99e97e9-afbc-4a32-a2d0-8f061c55d4fc",
     "showTitle": false,
     "tableResultSettingsMap": {
      "0": {
       "dataGridStateBlob": "{\"version\":1,\"tableState\":{\"columnPinning\":{\"left\":[\"#row_number#\"],\"right\":[]},\"columnSizing\":{},\"columnVisibility\":{}},\"settings\":{\"columns\":{}},\"syncTimestamp\":1755087696314}",
       "filterBlob": null,
       "queryPlanFiltersBlob": null,
       "tableResultIndex": 0
      }
     },
     "title": ""
    }
   },
   "outputs": [],
   "source": [
    "transfrm_tbl = spark.read.table(\"databricks_demo.ElectricVehicle_Info\")\n",
    "transfrm_tbl.display()\n",
    "\n"
   ]
  },
  {
   "cell_type": "code",
   "execution_count": 0,
   "metadata": {
    "application/vnd.databricks.v1+cell": {
     "cellMetadata": {
      "byteLimit": 2048000,
      "rowLimit": 10000
     },
     "inputWidgets": {},
     "nuid": "75326a8a-daa0-462b-b079-c75bb824802c",
     "showTitle": false,
     "tableResultSettingsMap": {},
     "title": ""
    }
   },
   "outputs": [],
   "source": [
    "from pyspark.sql.functions import *"
   ]
  },
  {
   "cell_type": "code",
   "execution_count": 0,
   "metadata": {
    "application/vnd.databricks.v1+cell": {
     "cellMetadata": {
      "byteLimit": 2048000,
      "rowLimit": 10000
     },
     "inputWidgets": {},
     "nuid": "5dcfd554-cb58-4550-89f0-c92ae3291d2d",
     "showTitle": false,
     "tableResultSettingsMap": {
      "0": {
       "dataGridStateBlob": "{\"version\":1,\"tableState\":{\"columnPinning\":{\"left\":[\"#row_number#\"],\"right\":[]},\"columnSizing\":{},\"columnVisibility\":{}},\"settings\":{\"columns\":{}},\"syncTimestamp\":1755093873632}",
       "filterBlob": null,
       "queryPlanFiltersBlob": null,
       "tableResultIndex": 0
      }
     },
     "title": ""
    }
   },
   "outputs": [],
   "source": [
    "transfrm_tbl.groupBy(\"DOL_Vehicle_ID\").agg(count('*').alias(\"cnt\")).filter(\"cnt > 1\").select(\"DOL_Vehicle_ID\",\"cnt\").display()"
   ]
  },
  {
   "cell_type": "code",
   "execution_count": 0,
   "metadata": {
    "application/vnd.databricks.v1+cell": {
     "cellMetadata": {},
     "inputWidgets": {},
     "nuid": "f53233ce-378b-4a06-bc17-8504d0b81b58",
     "showTitle": false,
     "tableResultSettingsMap": {},
     "title": ""
    }
   },
   "outputs": [],
   "source": [
    "staging = staging.where(\n",
    "    (col(\"County\").like(\"%Snohomish\")) &\n",
    "    (col(\"City\").like(\"%Everett\")) &\n",
    "    (col(\"Postal_Code\") == 98204)\n",
    ")"
   ]
  },
  {
   "cell_type": "code",
   "execution_count": 0,
   "metadata": {
    "application/vnd.databricks.v1+cell": {
     "cellMetadata": {
      "byteLimit": 2048000,
      "rowLimit": 10000
     },
     "inputWidgets": {},
     "nuid": "e6632df0-974f-4ce8-9433-95f7ec6ae4e1",
     "showTitle": false,
     "tableResultSettingsMap": {},
     "title": ""
    },
    "jupyter": {
     "outputs_hidden": true
    }
   },
   "outputs": [],
   "source": [
    "from pyspark.sql.functions import *\n",
    "\n",
    "var = df_ele.where(\n",
    "    (col(\"County\").like(\"%Snohomish\")) &\n",
    "    (col(\"City\").like(\"%Everett\")) &\n",
    "    (col(\"Postal Code\") == 98204)\n",
    ")\n",
    "var.display()\n",
    "# var.write.format(\"delta\").mode(\"overwrite\").saveAsTable(\"databricks_demo.ElectricVehicle_Info_P98204\")"
   ]
  },
  {
   "cell_type": "code",
   "execution_count": 0,
   "metadata": {
    "application/vnd.databricks.v1+cell": {
     "cellMetadata": {
      "byteLimit": 2048000,
      "rowLimit": 10000
     },
     "inputWidgets": {},
     "nuid": "1efaf0c6-85e4-4cba-80ba-88b0591618e0",
     "showTitle": false,
     "tableResultSettingsMap": {},
     "title": ""
    }
   },
   "outputs": [],
   "source": [
    "var.columns"
   ]
  },
  {
   "cell_type": "code",
   "execution_count": 0,
   "metadata": {
    "application/vnd.databricks.v1+cell": {
     "cellMetadata": {
      "byteLimit": 2048000,
      "rowLimit": 10000
     },
     "inputWidgets": {},
     "nuid": "8e3b4aa3-583c-46e3-87b6-5268de69d6de",
     "showTitle": false,
     "tableResultSettingsMap": {},
     "title": ""
    }
   },
   "outputs": [],
   "source": [
    "#  for i in var.columns:\n",
    "#     print(i.replace(\" \", \"_\").replace(\"(\", \"\").replace(\")\", \"\").replace(\"-\", \"_\"))\n",
    "new_col = [i.replace(\" \", \"_\").replace(\"(\", \"\").replace(\")\", \"\").replace(\"-\", \"_\") for i in var.columns]\n",
    "\n",
    "var = var.toDF(*new_col)\n",
    "#var.display()\n",
    "var.write.format(\"delta\").mode(\"overwrite\").saveAsTable(\"databricks_demo.ElectricVehicle_Info_P98204\")\n"
   ]
  },
  {
   "cell_type": "code",
   "execution_count": 0,
   "metadata": {
    "application/vnd.databricks.v1+cell": {
     "cellMetadata": {
      "byteLimit": 2048000,
      "implicitDf": true,
      "rowLimit": 10000
     },
     "inputWidgets": {},
     "nuid": "eb6c446f-3c7d-4002-8429-d1942e3844df",
     "showTitle": false,
     "tableResultSettingsMap": {},
     "title": ""
    }
   },
   "outputs": [],
   "source": [
    "%sql\n",
    "select * from databricks_demo.electricvehicle_info_p98204;"
   ]
  },
  {
   "cell_type": "code",
   "execution_count": 0,
   "metadata": {
    "application/vnd.databricks.v1+cell": {
     "cellMetadata": {
      "byteLimit": 2048000,
      "rowLimit": 10000
     },
     "inputWidgets": {},
     "nuid": "46baeb8e-5ca8-4b8e-8290-c7518d84e082",
     "showTitle": false,
     "tableResultSettingsMap": {},
     "title": ""
    }
   },
   "outputs": [],
   "source": [
    "from delta.tables import DeltaTable\n",
    "\n",
    "if True:\n",
    "    # Use DeltaTable merge\n",
    "    cols = transfrm_tbl.columns\n",
    " \n",
    "    update_expr = {col: f\"s.{col}\" for col in cols}\n",
    "    insert_expr = {col: f\"s.{col}\" for col in cols}\n",
    "    print(update_expr)\n",
    "    print(insert_expr)\n",
    "\n",
    "    target = DeltaTable.forName(spark, \"databricks_demo.ElectricVehicle_Info_P98204\")\n",
    "\n",
    "    target.alias(\"t\").merge(\n",
    "        transfrm_tbl.alias(\"s\"),\n",
    "        \"t.DOL_Vehicle_ID = s.DOL_Vehicle_ID and t.VIN_1_10 = s.VIN_1_10 AND t.Model_Year = s.Model_Year and t.County = s.County AND t.City = s.City AND t.Postal_Code = s.Postal_Code\"\n",
    "    )\\\n",
    "    .whenMatchedUpdate(set=update_expr) \\\n",
    "    .whenNotMatchedInsert(values=insert_expr) \\\n",
    "    .execute()\n",
    "\n",
    "\n",
    " "
   ]
  },
  {
   "cell_type": "code",
   "execution_count": 0,
   "metadata": {
    "application/vnd.databricks.v1+cell": {
     "cellMetadata": {
      "byteLimit": 2048000,
      "rowLimit": 10000
     },
     "inputWidgets": {},
     "nuid": "4a9b40cb-0cd8-4c37-9a57-fabce9e59b3a",
     "showTitle": false,
     "tableResultSettingsMap": {},
     "title": ""
    }
   },
   "outputs": [],
   "source": [
    "# spark.sql(\"truncate table databricks_demo.ElectricVehicle_Info_P98204\");\n",
    "spark.sql(\"truncate table databricks_demo.ElectricVehicle_Info\");"
   ]
  },
  {
   "cell_type": "code",
   "execution_count": 0,
   "metadata": {
    "application/vnd.databricks.v1+cell": {
     "cellMetadata": {
      "byteLimit": 2048000,
      "implicitDf": true,
      "rowLimit": 10000
     },
     "inputWidgets": {},
     "nuid": "8c21417c-2df2-4380-9756-4d54f0737f9c",
     "showTitle": false,
     "tableResultSettingsMap": {},
     "title": ""
    }
   },
   "outputs": [],
   "source": [
    "%sql\n",
    "-- select count(1) from databricks_demo.electricvehicle_info_p98204\n",
    "-- union all\n",
    "-- select count(1) from databricks_demo.electricvehicle_info;\n",
    "\n",
    "Select * from databricks_demo.electricvehicle_info_p98204 where State like '%tk'\n",
    "-- Select * from databricks_demo.electricvehicle_info"
   ]
  },
  {
   "cell_type": "code",
   "execution_count": 0,
   "metadata": {
    "application/vnd.databricks.v1+cell": {
     "cellMetadata": {
      "byteLimit": 2048000,
      "implicitDf": true,
      "rowLimit": 10000
     },
     "inputWidgets": {},
     "nuid": "90fb379e-7b8a-4591-be86-d1dce568de84",
     "showTitle": false,
     "tableResultSettingsMap": {},
     "title": ""
    }
   },
   "outputs": [],
   "source": [
    "df_CSV = spark.sql(\n",
    "    \"select * from databricks_demo.electricvehicle_info_p98204 \"\n",
    "    \"union all \"\n",
    "    \"(select VIN_1_10 || '1', County, City, State || 'tk', Postal_Code, \"\n",
    "    \"Model_Year, Make, Model, Electric_Vehicle_Type, \"\n",
    "    \"Clean_Alternative_Fuel_Vehicle_CAFV_Eligibility, Electric_Range, Base_MSRP, \"\n",
    "    \"Legislative_District, DOL_Vehicle_ID, Vehicle_Location, Electric_Utility, \"\n",
    "    \"2020_Census_Tract from databricks_demo.electricvehicle_info_p98204 Limit 3)\"\n",
    ")"
   ]
  },
  {
   "cell_type": "code",
   "execution_count": 0,
   "metadata": {
    "application/vnd.databricks.v1+cell": {
     "cellMetadata": {
      "byteLimit": 2048000,
      "implicitDf": true,
      "rowLimit": 10000
     },
     "inputWidgets": {},
     "nuid": "5b6414a7-6382-4e03-8c13-f70803049e7e",
     "showTitle": false,
     "tableResultSettingsMap": {},
     "title": ""
    }
   },
   "outputs": [],
   "source": [
    "%sql\n",
    "select * from databricks_demo.electricvehicle_info where State like '%tk'"
   ]
  },
  {
   "cell_type": "code",
   "execution_count": 0,
   "metadata": {
    "application/vnd.databricks.v1+cell": {
     "cellMetadata": {
      "byteLimit": 2048000,
      "rowLimit": 10000
     },
     "inputWidgets": {},
     "nuid": "91f50da0-865e-477f-a2a8-bb6b5e1cb22a",
     "showTitle": false,
     "tableResultSettingsMap": {},
     "title": ""
    }
   },
   "outputs": [],
   "source": [
    "# df_CSV.write.format(\"csv\").mode(\"overwrite\").save(\"/FileStore/tables/electricvehicle_info_p98204_Test.csv\")\n",
    "df_CSV.display()\n",
    "# dbutils.fs.ls(\"/FileStore/tables/\")"
   ]
  }
 ],
 "metadata": {
  "application/vnd.databricks.v1+notebook": {
   "computePreferences": null,
   "dashboards": [],
   "environmentMetadata": {
    "base_environment": "",
    "environment_version": "2"
   },
   "inputWidgetPreferences": null,
   "language": "python",
   "notebookMetadata": {
    "mostRecentlyExecutedCommandWithImplicitDF": {
     "commandId": 7458128652977186,
     "dataframes": [
      "_sqldf"
     ]
    },
    "pythonIndentUnit": 4
   },
   "notebookName": "AutoLoad_trial",
   "widgets": {}
  },
  "language_info": {
   "name": "python"
  }
 },
 "nbformat": 4,
 "nbformat_minor": 0
}
